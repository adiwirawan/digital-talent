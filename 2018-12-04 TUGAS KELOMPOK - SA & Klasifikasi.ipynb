{
 "cells": [
  {
   "cell_type": "code",
   "execution_count": 48,
   "metadata": {},
   "outputs": [],
   "source": [
    "import pandas as pd\n",
    "import numpy as np\n",
    "from sklearn.feature_extraction.text import CountVectorizer\n",
    "vect = CountVectorizer()\n",
    "from sklearn.feature_extraction.text import TfidfVectorizer\n",
    "from sklearn.cross_validation import train_test_split\n",
    "Data =[]\n",
    "Data.append({'text':'Best friends Devin Neugebauer and Nyson Rizqi have attended the annual Houston Indonesian Festival with their parents since they were pint-size','sentiment':'1'})\n",
    "Data.append({'text':'Now in middle school and high school, the two volunteered at the festival first year at Jones Plaza on Saturday','sentiment':'0'})\n",
    "Data.append({'text':'Previously called the Indonesian Culinary Festival, the event started in 2014 to showcase Houston various diverse communities','sentiment':'0'})\n",
    "Data.append({'text':'I feel like the most important thing is learning about where you come from','sentiment':'1'})\n",
    "Data.append({'text':'Because if you do not then everything is going to be forgotten throughout your family','sentiment':'-1'})\n",
    "Data.append({'text':'The festival showcases Indonesian cuisine such as Rendang, a meat dish served during ceremonies; traditional music and dance performances; and a fashion show featuring batik, cloth that has been dyed using wax','sentiment':'0'})\n",
    "Data.append({'text':'A Balinese welcoming dance performed by the Putri Mandalika Dancers from Florida served as the traditional entrance for ceremonial events','sentiment':'0'})\n",
    "Data.append({'text':'Rizqi, whose parents are from Indonesia, volunteered and attended to support his sister, a dancer who performed the traditional Saman dance from the Aceh province of Sumatra','sentiment':'1'})\n",
    "Data.append({'text':'It is important to keep the culture alive','sentiment':'1'})\n",
    "Data.append({'text':'I remember talking to someone and they did not even know where Indonesia was','sentiment':'-1'})\n",
    "Data.append({'text':'Neugebauer mother, who is Indonesian, was a food vendor at the event','sentiment':'1'})\n",
    "Data.append({'text':'The events are really fun and it is all about learning your culture','sentiment':'1'})\n",
    "Data.append({'text':'I just think it is amazing that we started out so small and now we can rent out the whole Jones Plaza','sentiment':'0'})\n",
    "Data.append({'text':'Neugebauer and Rizqi both belong to Indonesian North American Muslim Youth (INAMY), a religious nonprofit that promotes the Indonesian culture, history and the principles of Islam','sentiment':'1'})\n",
    "Data.append({'text':'hey said one of the reasons they like being a part of the organization is because it is a way to be surrounded by other Indonesians','sentiment':'1'})\n",
    "Data.append({'text':'I am here to show support, and I honestly have not seen this many Indonesians in a long time','sentiment':'1'})\n",
    "Data.append({'text':'Especially because there is other Indonesians (here) from the church community and the Muslim community, which I don’t see much','sentiment':'1'})\n",
    "Data.append({'text':'Nana Yuliana, the consul general of the Republic of Indonesia, said the festival showcases the prevalence of the economic relationship between the United States and Indonesia, which has the fourth largest population in the world','sentiment':'1'})\n",
    "Data.append({'text':'We want to showcase our culture, beautiful products and we want we strengthen economic cooperation between Indonesia and Houston especially','sentiment':'1'})\n",
    "Data.append({'text':'We export to Houston, but Houston also exports to Indonesia','sentiment':'1'})\n",
    "Data.append({'text':'Yuliana said one of the challenges is showing the community the economic relationship between Houston and Indonesia, such as with companies like Chevron','sentiment':'0'})\n",
    "Data.append({'text':'Houston is an international city','sentiment':'0'})\n",
    "Data.append({'text':'So, the presence of Indonesia here will bring support and strengthen Houston as a city','sentiment':'1'})"
   ]
  },
  {
   "cell_type": "code",
   "execution_count": 49,
   "metadata": {},
   "outputs": [
    {
     "data": {
      "text/html": [
       "<div>\n",
       "<style scoped>\n",
       "    .dataframe tbody tr th:only-of-type {\n",
       "        vertical-align: middle;\n",
       "    }\n",
       "\n",
       "    .dataframe tbody tr th {\n",
       "        vertical-align: top;\n",
       "    }\n",
       "\n",
       "    .dataframe thead th {\n",
       "        text-align: right;\n",
       "    }\n",
       "</style>\n",
       "<table border=\"1\" class=\"dataframe\">\n",
       "  <thead>\n",
       "    <tr style=\"text-align: right;\">\n",
       "      <th></th>\n",
       "      <th>sentiment</th>\n",
       "      <th>text</th>\n",
       "    </tr>\n",
       "  </thead>\n",
       "  <tbody>\n",
       "    <tr>\n",
       "      <th>0</th>\n",
       "      <td>1</td>\n",
       "      <td>Best friends Devin Neugebauer and Nyson Rizqi ...</td>\n",
       "    </tr>\n",
       "    <tr>\n",
       "      <th>1</th>\n",
       "      <td>0</td>\n",
       "      <td>Now in middle school and high school, the two ...</td>\n",
       "    </tr>\n",
       "    <tr>\n",
       "      <th>2</th>\n",
       "      <td>0</td>\n",
       "      <td>Previously called the Indonesian Culinary Fest...</td>\n",
       "    </tr>\n",
       "    <tr>\n",
       "      <th>3</th>\n",
       "      <td>1</td>\n",
       "      <td>I feel like the most important thing is learni...</td>\n",
       "    </tr>\n",
       "    <tr>\n",
       "      <th>4</th>\n",
       "      <td>-1</td>\n",
       "      <td>Because if you do not then everything is going...</td>\n",
       "    </tr>\n",
       "    <tr>\n",
       "      <th>5</th>\n",
       "      <td>0</td>\n",
       "      <td>The festival showcases Indonesian cuisine such...</td>\n",
       "    </tr>\n",
       "    <tr>\n",
       "      <th>6</th>\n",
       "      <td>0</td>\n",
       "      <td>A Balinese welcoming dance performed by the Pu...</td>\n",
       "    </tr>\n",
       "    <tr>\n",
       "      <th>7</th>\n",
       "      <td>1</td>\n",
       "      <td>Rizqi, whose parents are from Indonesia, volun...</td>\n",
       "    </tr>\n",
       "    <tr>\n",
       "      <th>8</th>\n",
       "      <td>1</td>\n",
       "      <td>It is important to keep the culture alive</td>\n",
       "    </tr>\n",
       "    <tr>\n",
       "      <th>9</th>\n",
       "      <td>-1</td>\n",
       "      <td>I remember talking to someone and they did not...</td>\n",
       "    </tr>\n",
       "    <tr>\n",
       "      <th>10</th>\n",
       "      <td>1</td>\n",
       "      <td>Neugebauer mother, who is Indonesian, was a fo...</td>\n",
       "    </tr>\n",
       "    <tr>\n",
       "      <th>11</th>\n",
       "      <td>1</td>\n",
       "      <td>The events are really fun and it is all about ...</td>\n",
       "    </tr>\n",
       "    <tr>\n",
       "      <th>12</th>\n",
       "      <td>0</td>\n",
       "      <td>I just think it is amazing that we started out...</td>\n",
       "    </tr>\n",
       "    <tr>\n",
       "      <th>13</th>\n",
       "      <td>1</td>\n",
       "      <td>Neugebauer and Rizqi both belong to Indonesian...</td>\n",
       "    </tr>\n",
       "    <tr>\n",
       "      <th>14</th>\n",
       "      <td>1</td>\n",
       "      <td>hey said one of the reasons they like being a ...</td>\n",
       "    </tr>\n",
       "    <tr>\n",
       "      <th>15</th>\n",
       "      <td>1</td>\n",
       "      <td>I am here to show support, and I honestly have...</td>\n",
       "    </tr>\n",
       "    <tr>\n",
       "      <th>16</th>\n",
       "      <td>1</td>\n",
       "      <td>Especially because there is other Indonesians ...</td>\n",
       "    </tr>\n",
       "    <tr>\n",
       "      <th>17</th>\n",
       "      <td>1</td>\n",
       "      <td>Nana Yuliana, the consul general of the Republ...</td>\n",
       "    </tr>\n",
       "    <tr>\n",
       "      <th>18</th>\n",
       "      <td>1</td>\n",
       "      <td>We want to showcase our culture, beautiful pro...</td>\n",
       "    </tr>\n",
       "    <tr>\n",
       "      <th>19</th>\n",
       "      <td>1</td>\n",
       "      <td>We export to Houston, but Houston also exports...</td>\n",
       "    </tr>\n",
       "    <tr>\n",
       "      <th>20</th>\n",
       "      <td>0</td>\n",
       "      <td>Yuliana said one of the challenges is showing ...</td>\n",
       "    </tr>\n",
       "    <tr>\n",
       "      <th>21</th>\n",
       "      <td>0</td>\n",
       "      <td>Houston is an international city</td>\n",
       "    </tr>\n",
       "    <tr>\n",
       "      <th>22</th>\n",
       "      <td>1</td>\n",
       "      <td>So, the presence of Indonesia here will bring ...</td>\n",
       "    </tr>\n",
       "  </tbody>\n",
       "</table>\n",
       "</div>"
      ],
      "text/plain": [
       "   sentiment                                               text\n",
       "0          1  Best friends Devin Neugebauer and Nyson Rizqi ...\n",
       "1          0  Now in middle school and high school, the two ...\n",
       "2          0  Previously called the Indonesian Culinary Fest...\n",
       "3          1  I feel like the most important thing is learni...\n",
       "4         -1  Because if you do not then everything is going...\n",
       "5          0  The festival showcases Indonesian cuisine such...\n",
       "6          0  A Balinese welcoming dance performed by the Pu...\n",
       "7          1  Rizqi, whose parents are from Indonesia, volun...\n",
       "8          1          It is important to keep the culture alive\n",
       "9         -1  I remember talking to someone and they did not...\n",
       "10         1  Neugebauer mother, who is Indonesian, was a fo...\n",
       "11         1  The events are really fun and it is all about ...\n",
       "12         0  I just think it is amazing that we started out...\n",
       "13         1  Neugebauer and Rizqi both belong to Indonesian...\n",
       "14         1  hey said one of the reasons they like being a ...\n",
       "15         1  I am here to show support, and I honestly have...\n",
       "16         1  Especially because there is other Indonesians ...\n",
       "17         1  Nana Yuliana, the consul general of the Republ...\n",
       "18         1  We want to showcase our culture, beautiful pro...\n",
       "19         1  We export to Houston, but Houston also exports...\n",
       "20         0  Yuliana said one of the challenges is showing ...\n",
       "21         0                   Houston is an international city\n",
       "22         1  So, the presence of Indonesia here will bring ..."
      ]
     },
     "execution_count": 49,
     "metadata": {},
     "output_type": "execute_result"
    }
   ],
   "source": [
    "new_data = pd.DataFrame.from_dict(Data)\n",
    "new_data"
   ]
  },
  {
   "cell_type": "code",
   "execution_count": 50,
   "metadata": {},
   "outputs": [
    {
     "name": "stdout",
     "output_type": "stream",
     "text": [
      "(23,)\n",
      "(23,)\n"
     ]
    }
   ],
   "source": [
    "X = new_data.text\n",
    "y = new_data.sentiment\n",
    "print(X.shape)\n",
    "print(y.shape)"
   ]
  },
  {
   "cell_type": "code",
   "execution_count": 51,
   "metadata": {},
   "outputs": [
    {
     "name": "stdout",
     "output_type": "stream",
     "text": [
      "(20,)\n",
      "(3,)\n",
      "(20,)\n",
      "(3,)\n"
     ]
    }
   ],
   "source": [
    "X_train, X_test, y_train, y_test = train_test_split(X, y, test_size=0.1)\n",
    "print(X_train.shape)\n",
    "print(X_test.shape)\n",
    "print(y_train.shape)\n",
    "print(y_test.shape)"
   ]
  },
  {
   "cell_type": "code",
   "execution_count": 52,
   "metadata": {},
   "outputs": [],
   "source": [
    "vect.fit(X_train)\n",
    "X_train_dtm = vect.transform(X_train)"
   ]
  },
  {
   "cell_type": "code",
   "execution_count": 53,
   "metadata": {},
   "outputs": [
    {
     "data": {
      "text/plain": [
       "<3x204 sparse matrix of type '<class 'numpy.int64'>'\n",
       "\twith 29 stored elements in Compressed Sparse Row format>"
      ]
     },
     "execution_count": 53,
     "metadata": {},
     "output_type": "execute_result"
    }
   ],
   "source": [
    "X_test_dtm = vect.transform(X_test)\n",
    "X_test_dtm"
   ]
  },
  {
   "cell_type": "markdown",
   "metadata": {},
   "source": [
    "# 1. SENTIMENT ANALYSIS"
   ]
  },
  {
   "cell_type": "markdown",
   "metadata": {},
   "source": [
    "## 1.1 LinearSVC"
   ]
  },
  {
   "cell_type": "code",
   "execution_count": 64,
   "metadata": {},
   "outputs": [
    {
     "name": "stdout",
     "output_type": "stream",
     "text": [
      "Wall time: 1.46 ms\n"
     ]
    }
   ],
   "source": [
    "from sklearn.svm import LinearSVC\n",
    "clf = LinearSVC(random_state=0, tol=1e-5)\n",
    "%time clf.fit(X_train_dtm, y_train)\n",
    "y_pred_class = clf.predict(X_test_dtm)"
   ]
  },
  {
   "cell_type": "code",
   "execution_count": 65,
   "metadata": {},
   "outputs": [
    {
     "data": {
      "text/plain": [
       "0.6666666666666666"
      ]
     },
     "execution_count": 65,
     "metadata": {},
     "output_type": "execute_result"
    }
   ],
   "source": [
    "from sklearn import metrics\n",
    "metrics.accuracy_score(y_test, y_pred_class)"
   ]
  },
  {
   "cell_type": "code",
   "execution_count": 66,
   "metadata": {},
   "outputs": [
    {
     "data": {
      "text/plain": [
       "array([[0, 1],\n",
       "       [0, 2]], dtype=int64)"
      ]
     },
     "execution_count": 66,
     "metadata": {},
     "output_type": "execute_result"
    }
   ],
   "source": [
    "metrics.confusion_matrix(y_test, y_pred_class)"
   ]
  },
  {
   "cell_type": "code",
   "execution_count": 67,
   "metadata": {},
   "outputs": [
    {
     "data": {
      "text/plain": [
       "array(['-1'], dtype=object)"
      ]
     },
     "execution_count": 67,
     "metadata": {},
     "output_type": "execute_result"
    }
   ],
   "source": [
    "test1 = ['where indonesia was']\n",
    "new_article_vect = vect.transform(test1)\n",
    "clf.predict(new_article_vect)"
   ]
  },
  {
   "cell_type": "markdown",
   "metadata": {},
   "source": [
    "## 1.2 SGDClassifier"
   ]
  },
  {
   "cell_type": "code",
   "execution_count": 68,
   "metadata": {},
   "outputs": [
    {
     "name": "stdout",
     "output_type": "stream",
     "text": [
      "Wall time: 1.98 ms\n"
     ]
    }
   ],
   "source": [
    "from sklearn.decomposition import TruncatedSVD\n",
    "clf = SGDClassifier(loss=\"hinge\", penalty=\"l2\", max_iter=5)\n",
    "%time clf.fit(X_train_dtm, y_train)\n",
    "y_pred_class = clf.predict(X_test_dtm)"
   ]
  },
  {
   "cell_type": "code",
   "execution_count": 69,
   "metadata": {},
   "outputs": [
    {
     "data": {
      "text/plain": [
       "0.6666666666666666"
      ]
     },
     "execution_count": 69,
     "metadata": {},
     "output_type": "execute_result"
    }
   ],
   "source": [
    "from sklearn import metrics\n",
    "metrics.accuracy_score(y_test, y_pred_class)"
   ]
  },
  {
   "cell_type": "code",
   "execution_count": 70,
   "metadata": {},
   "outputs": [
    {
     "data": {
      "text/plain": [
       "array([[0, 1],\n",
       "       [0, 2]], dtype=int64)"
      ]
     },
     "execution_count": 70,
     "metadata": {},
     "output_type": "execute_result"
    }
   ],
   "source": [
    "metrics.confusion_matrix(y_test, y_pred_class)"
   ]
  },
  {
   "cell_type": "code",
   "execution_count": 71,
   "metadata": {},
   "outputs": [
    {
     "data": {
      "text/plain": [
       "array(['-1'], dtype='<U2')"
      ]
     },
     "execution_count": 71,
     "metadata": {},
     "output_type": "execute_result"
    }
   ],
   "source": [
    "test1 = ['where indonesia was']\n",
    "new_article_vect = vect.transform(test1)\n",
    "clf.predict(new_article_vect)"
   ]
  },
  {
   "cell_type": "markdown",
   "metadata": {},
   "source": [
    "# 2. CLustering"
   ]
  },
  {
   "cell_type": "code",
   "execution_count": 72,
   "metadata": {},
   "outputs": [
    {
     "data": {
      "text/html": [
       "<div>\n",
       "<style scoped>\n",
       "    .dataframe tbody tr th:only-of-type {\n",
       "        vertical-align: middle;\n",
       "    }\n",
       "\n",
       "    .dataframe tbody tr th {\n",
       "        vertical-align: top;\n",
       "    }\n",
       "\n",
       "    .dataframe thead th {\n",
       "        text-align: right;\n",
       "    }\n",
       "</style>\n",
       "<table border=\"1\" class=\"dataframe\">\n",
       "  <thead>\n",
       "    <tr style=\"text-align: right;\">\n",
       "      <th></th>\n",
       "      <th>text</th>\n",
       "    </tr>\n",
       "  </thead>\n",
       "  <tbody>\n",
       "    <tr>\n",
       "      <th>0</th>\n",
       "      <td>Best friends Devin Neugebauer and Nyson Rizqi ...</td>\n",
       "    </tr>\n",
       "    <tr>\n",
       "      <th>1</th>\n",
       "      <td>Now in middle school and high school, the two ...</td>\n",
       "    </tr>\n",
       "    <tr>\n",
       "      <th>2</th>\n",
       "      <td>Previously called the Indonesian Culinary Fest...</td>\n",
       "    </tr>\n",
       "    <tr>\n",
       "      <th>3</th>\n",
       "      <td>I feel like the most important thing is learni...</td>\n",
       "    </tr>\n",
       "    <tr>\n",
       "      <th>4</th>\n",
       "      <td>Because if you do not then everything is going...</td>\n",
       "    </tr>\n",
       "    <tr>\n",
       "      <th>5</th>\n",
       "      <td>The festival showcases Indonesian cuisine such...</td>\n",
       "    </tr>\n",
       "    <tr>\n",
       "      <th>6</th>\n",
       "      <td>A Balinese welcoming dance performed by the Pu...</td>\n",
       "    </tr>\n",
       "    <tr>\n",
       "      <th>7</th>\n",
       "      <td>Rizqi, whose parents are from Indonesia, volun...</td>\n",
       "    </tr>\n",
       "    <tr>\n",
       "      <th>8</th>\n",
       "      <td>It is important to keep the culture alive</td>\n",
       "    </tr>\n",
       "    <tr>\n",
       "      <th>9</th>\n",
       "      <td>I remember talking to someone and they did not...</td>\n",
       "    </tr>\n",
       "    <tr>\n",
       "      <th>10</th>\n",
       "      <td>Neugebauer mother, who is Indonesian, was a fo...</td>\n",
       "    </tr>\n",
       "    <tr>\n",
       "      <th>11</th>\n",
       "      <td>The events are really fun and it is all about ...</td>\n",
       "    </tr>\n",
       "    <tr>\n",
       "      <th>12</th>\n",
       "      <td>I just think it is amazing that we started out...</td>\n",
       "    </tr>\n",
       "    <tr>\n",
       "      <th>13</th>\n",
       "      <td>Neugebauer and Rizqi both belong to Indonesian...</td>\n",
       "    </tr>\n",
       "    <tr>\n",
       "      <th>14</th>\n",
       "      <td>hey said one of the reasons they like being a ...</td>\n",
       "    </tr>\n",
       "    <tr>\n",
       "      <th>15</th>\n",
       "      <td>I am here to show support, and I honestly have...</td>\n",
       "    </tr>\n",
       "    <tr>\n",
       "      <th>16</th>\n",
       "      <td>Especially because there is other Indonesians ...</td>\n",
       "    </tr>\n",
       "    <tr>\n",
       "      <th>17</th>\n",
       "      <td>Nana Yuliana, the consul general of the Republ...</td>\n",
       "    </tr>\n",
       "    <tr>\n",
       "      <th>18</th>\n",
       "      <td>We want to showcase our culture, beautiful pro...</td>\n",
       "    </tr>\n",
       "    <tr>\n",
       "      <th>19</th>\n",
       "      <td>We export to Houston, but Houston also exports...</td>\n",
       "    </tr>\n",
       "    <tr>\n",
       "      <th>20</th>\n",
       "      <td>Yuliana said one of the challenges is showing ...</td>\n",
       "    </tr>\n",
       "    <tr>\n",
       "      <th>21</th>\n",
       "      <td>Houston is an international city</td>\n",
       "    </tr>\n",
       "    <tr>\n",
       "      <th>22</th>\n",
       "      <td>So, the presence of Indonesia here will bring ...</td>\n",
       "    </tr>\n",
       "  </tbody>\n",
       "</table>\n",
       "</div>"
      ],
      "text/plain": [
       "                                                 text\n",
       "0   Best friends Devin Neugebauer and Nyson Rizqi ...\n",
       "1   Now in middle school and high school, the two ...\n",
       "2   Previously called the Indonesian Culinary Fest...\n",
       "3   I feel like the most important thing is learni...\n",
       "4   Because if you do not then everything is going...\n",
       "5   The festival showcases Indonesian cuisine such...\n",
       "6   A Balinese welcoming dance performed by the Pu...\n",
       "7   Rizqi, whose parents are from Indonesia, volun...\n",
       "8           It is important to keep the culture alive\n",
       "9   I remember talking to someone and they did not...\n",
       "10  Neugebauer mother, who is Indonesian, was a fo...\n",
       "11  The events are really fun and it is all about ...\n",
       "12  I just think it is amazing that we started out...\n",
       "13  Neugebauer and Rizqi both belong to Indonesian...\n",
       "14  hey said one of the reasons they like being a ...\n",
       "15  I am here to show support, and I honestly have...\n",
       "16  Especially because there is other Indonesians ...\n",
       "17  Nana Yuliana, the consul general of the Republ...\n",
       "18  We want to showcase our culture, beautiful pro...\n",
       "19  We export to Houston, but Houston also exports...\n",
       "20  Yuliana said one of the challenges is showing ...\n",
       "21                   Houston is an international city\n",
       "22  So, the presence of Indonesia here will bring ..."
      ]
     },
     "execution_count": 72,
     "metadata": {},
     "output_type": "execute_result"
    }
   ],
   "source": [
    "cluster_data = pd.DataFrame(Data,columns=['text'])\n",
    "cluster_data"
   ]
  },
  {
   "cell_type": "code",
   "execution_count": 73,
   "metadata": {},
   "outputs": [
    {
     "name": "stdout",
     "output_type": "stream",
     "text": [
      "(23,)\n"
     ]
    }
   ],
   "source": [
    "X = cluster_data.text\n",
    "print(X.shape)"
   ]
  },
  {
   "cell_type": "code",
   "execution_count": null,
   "metadata": {},
   "outputs": [],
   "source": []
  }
 ],
 "metadata": {
  "kernelspec": {
   "display_name": "Python 3",
   "language": "python",
   "name": "python3"
  },
  "language_info": {
   "codemirror_mode": {
    "name": "ipython",
    "version": 3
   },
   "file_extension": ".py",
   "mimetype": "text/x-python",
   "name": "python",
   "nbconvert_exporter": "python",
   "pygments_lexer": "ipython3",
   "version": "3.7.0"
  }
 },
 "nbformat": 4,
 "nbformat_minor": 2
}
