{
 "cells": [
  {
   "cell_type": "code",
   "execution_count": 1,
   "metadata": {},
   "outputs": [
    {
     "name": "stdout",
     "output_type": "stream",
     "text": [
      "[61, 37, 60, 14, 7, 18, 8, 40, 86, 91, 36, 24, 1, 84, 42, 54, 16, 61, 53, 40, 78, 72, 3, 68, 72, 85, 1, 38, 59, 67, 34, 39, 39, 38, 53, 83, 57, 14, 53, 12, 69, 15, 27, 25, 81, 61, 7, 70, 21, 5, 19, 33, 90, 34, 63, 29, 17, 85, 77, 98, 9, 14, 56, 25, 80, 12, 13, 84, 9, 7, 72, 46, 18, 6, 46, 14, 10, 60, 67, 1, 83, 54, 8, 8, 12, 2, 41, 22, 64, 78, 18, 21, 38, 56, 79, 42, 41, 98, 96, 9, 34, 19, 52, 35, 93, 48, 95, 81, 70, 66, 97, 93, 20, 28, 84, 7, 84, 88, 49, 62, 31, 85, 51, 22, 2, 54, 96, 47, 22, 87, 10, 22, 51, 19, 42, 5, 28, 93, 7, 35, 61, 79, 15, 27, 15, 37, 86, 36, 68, 64, 59, 84, 38, 65, 42, 7, 22, 46, 89, 51, 13, 40, 44, 30, 74, 75, 36, 93, 62, 62, 76, 34, 49, 72, 28, 17, 59, 62, 24, 50, 68, 20, 75, 74, 1, 56, 77, 76, 79, 39, 5, 97, 11, 21, 32, 39, 42, 49, 34, 96, 6, 11, 57, 57, 95, 78, 58, 14, 12, 10, 28, 66, 97, 86, 59, 79, 8, 7, 1, 63, 81, 73, 29, 5, 75, 75, 92, 67, 44, 80, 18, 51, 96, 1, 19, 37, 51, 53, 88, 27, 99, 22, 26, 54, 97, 30, 6, 52, 58, 67]\n"
     ]
    }
   ],
   "source": [
    "# [1] Tampilkan Angka Ganjil dari ke 250 nilai tersebut\n",
    "import random\n",
    "\n",
    "# GENERATE RANDOM\n",
    "nilaiTugas = []\n",
    "for i in range(250):\n",
    "    nilaiTugas.append(random.randrange(1,100,1))\n",
    "print(nilaiTugas)"
   ]
  },
  {
   "cell_type": "code",
   "execution_count": 2,
   "metadata": {},
   "outputs": [
    {
     "name": "stdout",
     "output_type": "stream",
     "text": [
      "Jumlah yang lebih dari 70 adalah:  64\n"
     ]
    }
   ],
   "source": [
    "# [2] Tampilkan berapa banyak yang mendapatkan nilai lebih dari 70\n",
    "jumlah70plus = 0\n",
    "for x in nilaiTugas:\n",
    "    if x > 70:\n",
    "        jumlah70plus = jumlah70plus +1\n",
    "print(\"Jumlah yang lebih dari 70 adalah: \",jumlah70plus)"
   ]
  },
  {
   "cell_type": "code",
   "execution_count": 3,
   "metadata": {},
   "outputs": [
    {
     "name": "stdout",
     "output_type": "stream",
     "text": [
      "Rerata adalah:  46.816\n",
      "Sigma adalah:  206871.536\n",
      "Standar Deviasi:  28.766058888905864\n"
     ]
    }
   ],
   "source": [
    "# [3] Tampilkan standar deviasi dari sekumpulan nilai tersebut\n",
    "jumlah = 0\n",
    "for x in nilaiTugas:\n",
    "    jumlah += x\n",
    "rerata = jumlah / len(nilaiTugas)\n",
    "print(\"Rerata adalah: \",rerata)\n",
    "sigma = 0\n",
    "hitung = 0\n",
    "for x in nilaiTugas:\n",
    "    hitung = (x - rerata)**2\n",
    "    sigma += hitung\n",
    "print(\"Sigma adalah: \",sigma)    \n",
    "pembagianN = sigma / len(nilaiTugas)\n",
    "standarDeviasi = pembagianN ** 0.5\n",
    "print(\"Standar Deviasi: \",standarDeviasi)"
   ]
  },
  {
   "cell_type": "code",
   "execution_count": 5,
   "metadata": {},
   "outputs": [
    {
     "name": "stdout",
     "output_type": "stream",
     "text": [
      "Nilai Maximum:  99\n",
      "Nilai Minimum:  1\n"
     ]
    }
   ],
   "source": [
    "# [4] Tampilkan nilai maksimum dan minimum\n",
    "max = 0\n",
    "min = 1000\n",
    "for x in nilaiTugas:\n",
    "    if x > max:\n",
    "        max = x\n",
    "    if x < min:\n",
    "        min = x\n",
    "print(\"Nilai Maximum: \",max)\n",
    "print(\"Nilai Minimum: \",min)"
   ]
  },
  {
   "cell_type": "code",
   "execution_count": 9,
   "metadata": {},
   "outputs": [
    {
     "name": "stdout",
     "output_type": "stream",
     "text": [
      "Modus :  8\n"
     ]
    }
   ],
   "source": [
    "# cari Modus\n",
    "nilaiTugas.sort()\n",
    "arrUrutNilai = []\n",
    "arrUrutJumlah = []\n",
    "indexPrev = 0\n",
    "cacah = 0\n",
    "\n",
    "for i,n in enumerate(nilaiTugas):\n",
    "    indexPrev = i-1\n",
    "    if indexPrev < 1:\n",
    "        indexPrev = 0\n",
    "    if nilaiTugas[indexPrev] == nilaiTugas[i]:\n",
    "        cacah+=1\n",
    "    else:   \n",
    "        arrUrutJumlah.append(cacah)\n",
    "        arrUrutNilai.append(nilaiTugas[i])\n",
    "        cacah = 1\n",
    "\n",
    "maxJumlah = 0\n",
    "indexMaxJumlah = 0\n",
    "for x,n in enumerate(arrUrutJumlah):\n",
    "    if arrUrutJumlah[x] > maxJumlah:\n",
    "        maxJumlah = arrUrutJumlah[x]\n",
    "        indexMaxJumlah = x\n",
    "print(\"Modus : \",arrUrutNilai[indexMaxJumlah])\n",
    "        \n",
    "    \n",
    "    "
   ]
  },
  {
   "cell_type": "code",
   "execution_count": null,
   "metadata": {},
   "outputs": [],
   "source": []
  }
 ],
 "metadata": {
  "kernelspec": {
   "display_name": "Python 3",
   "language": "python",
   "name": "python3"
  },
  "language_info": {
   "codemirror_mode": {
    "name": "ipython",
    "version": 3
   },
   "file_extension": ".py",
   "mimetype": "text/x-python",
   "name": "python",
   "nbconvert_exporter": "python",
   "pygments_lexer": "ipython3",
   "version": "3.7.0"
  }
 },
 "nbformat": 4,
 "nbformat_minor": 2
}
